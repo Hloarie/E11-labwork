{
 "cells": [
  {
   "cell_type": "code",
   "execution_count": 1,
   "id": "b7ed8533",
   "metadata": {},
   "outputs": [],
   "source": [
    "import math\n",
    "import numpy as np\n",
    "import pandas as pd\n",
    "%matplotlib inline\n",
    "import matplotlib.pyplot as plt\n",
    "import io\n",
    "import requests\n",
    "from scipy.stats import norm"
   ]
  },
  {
   "cell_type": "code",
   "execution_count": 9,
   "id": "72b6e6bd",
   "metadata": {
    "scrolled": true
   },
   "outputs": [],
   "source": [
    "omdata = pd.read_csv(r'HaydenWalkingData.csv')\n",
    "ohdata = pd.read_csv(r'HunterWalkingData.csv')\n",
    "\n",
    "\n",
    "lmdata = omdata['Radiation (cps)']\n",
    "mdata = lmdata.loc[0:298]\n",
    "\n",
    "hdata = ohdata['Radiation (cps)']\n"
   ]
  },
  {
   "cell_type": "code",
   "execution_count": 10,
   "id": "8dde0575",
   "metadata": {},
   "outputs": [
    {
     "name": "stdout",
     "output_type": "stream",
     "text": [
      "0      35.2\n",
      "1      36.6\n",
      "2      38.2\n",
      "3      34.8\n",
      "4      30.6\n",
      "       ... \n",
      "294    25.4\n",
      "295    22.8\n",
      "296    25.4\n",
      "297    28.4\n",
      "298    19.8\n",
      "Name: Radiation (cps), Length: 299, dtype: float64\n",
      "0      37.6\n",
      "1      33.4\n",
      "2      29.2\n",
      "3      36.2\n",
      "4      34.2\n",
      "       ... \n",
      "294    29.0\n",
      "295    23.4\n",
      "296    29.8\n",
      "297    28.4\n",
      "298    26.8\n",
      "Name: Radiation (cps), Length: 299, dtype: float64\n"
     ]
    }
   ],
   "source": [
    "print(mdata)\n",
    "print(hdata)\n",
    "\n"
   ]
  },
  {
   "cell_type": "code",
   "execution_count": 14,
   "id": "d6e7eeff",
   "metadata": {},
   "outputs": [
    {
     "data": {
      "image/png": "[encoded data removed]",
      "text/plain": [
       "<Figure size 432x288 with 1 Axes>"
      ]
     },
     "metadata": {
      "needs_background": "light"
     },
     "output_type": "display_data"
    },
    {
     "data": {
      "image/png": "[encoded data removed]",
      "text/plain": [
       "<Figure size 432x288 with 1 Axes>"
      ]
     },
     "metadata": {
      "needs_background": "light"
     },
     "output_type": "display_data"
    }
   ],
   "source": [
    "nbins = np.max(mdata) - np.min(mdata)\n",
    "nbins = int(nbins*1)\n",
    "\n",
    "plt.hist(mdata, bins = nbins)\n",
    "plt.ylabel('Frequency')\n",
    "plt.xlabel('CPM')\n",
    "plt.title(\"Frequency of CPM on My Walk\")\n",
    "plt.show()\n",
    "\n",
    "nbins = np.max(hdata) - np.min(hdata)\n",
    "nbins = int(nbins*1)\n",
    "\n",
    "plt.hist(hdata, bins = nbins)\n",
    "plt.ylabel('Frequency')\n",
    "plt.xlabel('CPM')\n",
    "plt.title(\"Frequency of CPM on Hunter's Walk\")\n",
    "plt.show()\n"
   ]
  },
  {
   "cell_type": "code",
   "execution_count": 15,
   "id": "87c3793c",
   "metadata": {},
   "outputs": [
    {
     "name": "stdout",
     "output_type": "stream",
     "text": [
      "31.353177257525072\n",
      "4.547153353188035\n",
      "0.14503006556047437\n",
      "\n",
      "29.444147157190613\n",
      "6.103668850497932\n",
      "0.2072965067696771\n"
     ]
    }
   ],
   "source": [
    "mmu = np.mean(mdata)\n",
    "msigma = np.std(mdata)\n",
    "\n",
    "hmu = np.mean(hdata)\n",
    "hsigma = np.std(hdata)\n",
    "\n",
    "\n",
    "print(mmu)\n",
    "print(msigma)\n",
    "print(msigma)\n",
    "print()\n",
    "print(hmu)\n",
    "print(hsigma)\n",
    "print(hsigma)"
   ]
  },
  {
   "cell_type": "markdown",
   "id": "63632336",
   "metadata": {},
   "source": [
    "The data sets do agree with each other statistically.  Both of the means fall well within either of the first sigma values.  On interesting point is the data that my sensor collected is much more concentrated and yielded a lower uncertainty."
   ]
  },
  {
   "cell_type": "code",
   "execution_count": 16,
   "id": "881f6280",
   "metadata": {},
   "outputs": [
    {
     "name": "stdout",
     "output_type": "stream",
     "text": [
      "5.5993907934278955\n",
      "5.4262461386478416\n"
     ]
    }
   ],
   "source": [
    "muncertainty = math.sqrt(mmu)\n",
    "print(muncertainty)\n",
    "\n",
    "huncertainty = math.sqrt(hmu)\n",
    "print(huncertainty)\n",
    "\n",
    "\n"
   ]
  },
  {
   "cell_type": "markdown",
   "id": "2e8acbf0",
   "metadata": {},
   "source": [
    "This is very close to the measured standard deviation being only a bit larger (about 1.05 difference) for my data set and a bit smaller (about .68 difference) for my partner's data set."
   ]
  },
  {
   "cell_type": "code",
   "execution_count": 18,
   "id": "c111736a",
   "metadata": {},
   "outputs": [
    {
     "name": "stdout",
     "output_type": "stream",
     "text": [
      "0.952953512228216\n",
      "0.9234862339146793\n"
     ]
    }
   ],
   "source": [
    "msigmauncert = muncertainty/(math.sqrt(2*math.sqrt(298)))\n",
    "\n",
    "hsigmauncert = huncertainty/(math.sqrt(2*math.sqrt(298)))\n",
    "\n",
    "print(msigmauncert)\n",
    "print(hsigmauncert)"
   ]
  },
  {
   "cell_type": "markdown",
   "id": "d5fa2d77",
   "metadata": {},
   "source": [
    "My data's expected and measured variances fell within two deviations of the uncertainty on the uncertainty.  My partners fell within the first, so they are statistically in agreement.  My data did fall out of the first range however meaning it is statistically less likely to be in line with the normal distribution.  This could be due to the changing of locations causing the sensors to take data from different sources rather than just one."
   ]
  },
  {
   "cell_type": "code",
   "execution_count": null,
   "id": "f57f6ffa",
   "metadata": {},
   "outputs": [],
   "source": []
  }
 ],
 "metadata": {
  "kernelspec": {
   "display_name": "Python 3",
   "language": "python",
   "name": "python3"
  },
  "language_info": {
   "codemirror_mode": {
    "name": "ipython",
    "version": 3
   },
   "file_extension": ".py",
   "mimetype": "text/x-python",
   "name": "python",
   "nbconvert_exporter": "python",
   "pygments_lexer": "ipython3",
   "version": "3.8.8"
  }
 },
 "nbformat": 4,
 "nbformat_minor": 5
}
